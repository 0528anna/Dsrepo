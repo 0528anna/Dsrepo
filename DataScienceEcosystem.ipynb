{
 "cells": [
  {
   "cell_type": "markdown",
   "id": "8e507189-ee0e-4a7e-b0cd-fa26c90fb849",
   "metadata": {},
   "source": [
    "# Data Science Tools and Ecosystem\n"
   ]
  },
  {
   "cell_type": "markdown",
   "id": "58f920ef-852b-488b-ad19-2c6764cf48a7",
   "metadata": {},
   "source": [
    "In this notebook, Data Science Tools and Ecosystem are summarized."
   ]
  },
  {
   "cell_type": "markdown",
   "id": "89cf40c6-2d87-49e7-8467-febeaa5dae6f",
   "metadata": {},
   "source": [
    "**Objectives:**\n",
    "* List popular languages for Data Science.\n",
    "* List popular libraries for Data Science.\n",
    "* List popular tools for Data Science.\n",
    "* Show some simple Python code."
   ]
  },
  {
   "cell_type": "markdown",
   "id": "53060d13-2118-4b82-97d4-5c4dc6d3b3eb",
   "metadata": {},
   "source": [
    "Some of the popular languages that Data Scientists use are:\n",
    "1. Python\n",
    "2. R\n",
    "3. SQL"
   ]
  },
  {
   "cell_type": "markdown",
   "id": "3659a375-e362-4d4b-ba9d-8ee15c01986d",
   "metadata": {},
   "source": [
    "Some of the commonly used libraries used by Data Scientists include:\n",
    "1. NumPy\n",
    "2. Pandas\n",
    "3. Matplotlib\n",
    "4. ggplot2\n",
    "5. caret"
   ]
  },
  {
   "cell_type": "markdown",
   "id": "28137902-8eb2-4bb8-a886-10a04ada0cd2",
   "metadata": {},
   "source": [
    "Some of the commonly used tools used by Data Scientists include:\n",
    "\n",
    "| Data Science Tools |\n",
    "| :--- |\n",
    "|Jupyter Notebook |\n",
    "|JupyterLab |\n",
    "| RStudio |"
   ]
  },
  {
   "cell_type": "markdown",
   "id": "8b16d1e8-d4a7-449f-86f4-c0528789dbcd",
   "metadata": {},
   "source": [
    "### Below are a few examples of evaluating arithmetic expressions in Python"
   ]
  },
  {
   "cell_type": "code",
   "execution_count": 1,
   "id": "4095b4b0-dd82-414d-a4a4-910cae679461",
   "metadata": {},
   "outputs": [
    {
     "data": {
      "text/plain": [
       "17"
      ]
     },
     "execution_count": 1,
     "metadata": {},
     "output_type": "execute_result"
    }
   ],
   "source": [
    "#This a simple arithmetic expression to mutiply then add integers\n",
    "(3*4)+5"
   ]
  },
  {
   "cell_type": "code",
   "execution_count": 12,
   "id": "e04ab447-de80-4f48-a062-3490b0ce7d26",
   "metadata": {},
   "outputs": [
    {
     "name": "stdout",
     "output_type": "stream",
     "text": [
      "200 minutes equals to 3 hours and 20 minutes.\n"
     ]
    }
   ],
   "source": [
    "#This will convert 200 minutes to hours by diving by 60\n",
    "a = int(200/60)\n",
    "b = 200 % 60\n",
    "print(\"200 minutes equals to \" + str(a) + \" hours and \" + str(b) + \" minutes.\")"
   ]
  },
  {
   "cell_type": "markdown",
   "id": "6f438699-9ece-4d40-b1ae-f3ccdbd910df",
   "metadata": {},
   "source": [
    "## Author\n",
    "Anna\n"
   ]
  },
  {
   "cell_type": "code",
   "execution_count": null,
   "id": "bce19342-566a-4a1b-ac9e-597d7244a96f",
   "metadata": {},
   "outputs": [],
   "source": []
  }
 ],
 "metadata": {
  "kernelspec": {
   "display_name": "Python 3 (ipykernel)",
   "language": "python",
   "name": "python3"
  },
  "language_info": {
   "codemirror_mode": {
    "name": "ipython",
    "version": 3
   },
   "file_extension": ".py",
   "mimetype": "text/x-python",
   "name": "python",
   "nbconvert_exporter": "python",
   "pygments_lexer": "ipython3",
   "version": "3.9.7"
  }
 },
 "nbformat": 4,
 "nbformat_minor": 5
}
